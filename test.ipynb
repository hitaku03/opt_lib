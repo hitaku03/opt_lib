{
 "cells": [
  {
   "cell_type": "code",
   "execution_count": 1,
   "id": "0a37d792-0c07-48c5-9391-2915b4c73ab9",
   "metadata": {
    "executionInfo": {
     "elapsed": 51397,
     "status": "ok",
     "timestamp": 1681475650570,
     "user": {
      "displayName": "平原拓弥",
      "userId": "09897794011913357674"
     },
     "user_tz": -540
    },
    "id": "0a37d792-0c07-48c5-9391-2915b4c73ab9"
   },
   "outputs": [
    {
     "data": {
      "text/plain": [
       "'\\nimport shutil\\nshutil.copy(\"./drive/MyDrive/2048.zip\", \\'./\\')\\nshutil.copy(\"./drive/MyDrive/custom_layers2.py\", \\'./\\')\\nshutil.unpack_archive(\"./2048.zip\", \"./\")\\n'"
      ]
     },
     "execution_count": 1,
     "metadata": {},
     "output_type": "execute_result"
    }
   ],
   "source": [
    "\"\"\"\n",
    "import shutil\n",
    "shutil.copy(\"./drive/MyDrive/2048.zip\", './')\n",
    "shutil.copy(\"./drive/MyDrive/custom_layers2.py\", './')\n",
    "shutil.unpack_archive(\"./2048.zip\", \"./\")\n",
    "\"\"\""
   ]
  },
  {
   "cell_type": "code",
   "execution_count": 1,
   "id": "0SusERoYqLYf",
   "metadata": {
    "executionInfo": {
     "elapsed": 7955,
     "status": "ok",
     "timestamp": 1681475658517,
     "user": {
      "displayName": "平原拓弥",
      "userId": "09897794011913357674"
     },
     "user_tz": -540
    },
    "id": "0SusERoYqLYf"
   },
   "outputs": [],
   "source": [
    "import tensorflow as tf\n",
    "import numpy as np\n",
    "import cv2\n",
    "from tensorflow import keras\n",
    "import matplotlib\n",
    "import matplotlib.pyplot as plt\n",
    "import opt_calc as cl\n",
    "import opt_module as lens\n",
    "import opt_util"
   ]
  },
  {
   "cell_type": "code",
   "execution_count": 14,
   "id": "bKBTdgGe7Txp",
   "metadata": {
    "executionInfo": {
     "elapsed": 10,
     "status": "ok",
     "timestamp": 1681475658518,
     "user": {
      "displayName": "平原拓弥",
      "userId": "09897794011913357674"
     },
     "user_tz": -540
    },
    "id": "bKBTdgGe7Txp"
   },
   "outputs": [],
   "source": [
    "#モード選択\n",
    "mode = \"image\""
   ]
  },
  {
   "cell_type": "code",
   "execution_count": 15,
   "id": "2sLbEkSrWcF5",
   "metadata": {
    "executionInfo": {
     "elapsed": 10,
     "status": "ok",
     "timestamp": 1681475658518,
     "user": {
      "displayName": "平原拓弥",
      "userId": "09897794011913357674"
     },
     "user_tz": -540
    },
    "id": "2sLbEkSrWcF5"
   },
   "outputs": [],
   "source": [
    "#訓練データ用\n",
    "#数字あり\n",
    "\n",
    "if mode==\"point\":\n",
    "    count = 1 #繰り返す回数,ファイルの数(つまりデータの総数はdata_train*count)\n",
    "    data_train = 1 #1ファイルあたりの元画像の枚数\n",
    "    batch_size = 1\n",
    "\n",
    "elif mode==\"image\":\n",
    "    count = 1 #繰り返す回数,ファイルの数(つまりデータの総数はdata_train*count)\n",
    "    data_train = 8 #1ファイルあたりの元画像の枚数\n",
    "    batch_size = 8\n",
    "    \n",
    "elif mode==\"test\":\n",
    "    count = 1 #繰り返す回数,ファイルの数(つまりデータの総数はdata_train*count)\n",
    "    data_train = 96 #1ファイルあたりの枚数\n",
    "    batch_size = 2\n",
    "    test_bias = 99999\n",
    "\n",
    "\n",
    "#分割前の画像\n",
    "height = 1024\n",
    "width = 1024\n",
    "\n",
    "#分割後のデータ\n",
    "height_s = 256\n",
    "width_s = 256\n",
    "\n",
    "#学習・検証データ用分割数\n",
    "sh_num=8\n",
    "sw_num=8\n",
    "\n",
    "#テストデータ用分割数\n",
    "img_height_step = 15\n",
    "img_width_step = 15\n",
    "\n",
    "#伝搬計算用\n",
    "pitch= 6.4*pow(10.0, -6.0)  #サンプリングピッチ\n",
    "Lambda = 532.0 * pow(10.0, -9.0)  #波長\n",
    "z1 = 0.2\n",
    "z2 = 0.1\n",
    "z3 = 0.2\n",
    "fti = 10"
   ]
  },
  {
   "cell_type": "code",
   "execution_count": 16,
   "id": "jUfXRLtck4T_",
   "metadata": {
    "colab": {
     "base_uri": "https://localhost:8080/"
    },
    "executionInfo": {
     "elapsed": 8926,
     "status": "ok",
     "timestamp": 1681475667434,
     "user": {
      "displayName": "平原拓弥",
      "userId": "09897794011913357674"
     },
     "user_tz": -540
    },
    "id": "jUfXRLtck4T_",
    "outputId": "67e8edf7-a371-4068-a88a-6fc098c94651",
    "tags": []
   },
   "outputs": [
    {
     "name": "stdout",
     "output_type": "stream",
     "text": [
      "0\n"
     ]
    }
   ],
   "source": [
    "if mode==\"point\":\n",
    "    batch_size = 1\n",
    "    #1\n",
    "    x_train=np.ones((1,1024,1024)).astype(np.float32)\n",
    "    x_train=x_train.astype(np.float32)\n",
    "\n",
    "    #物体点情報の作成\n",
    "    X_train = np.zeros((batch_size,height,width,2), dtype='float32')\n",
    "    for i in range(batch_size):\n",
    "        X_train[i,0:height,0:width,0]=x_train[i,:,:]\n",
    "    X_train1 =X_train\n",
    "\n",
    "    #2\n",
    "    #回折計算\n",
    "    result1 = cl.angular_spectrum(X_train1, wl=Lambda, p=pitch,z=z1)\n",
    "\n",
    "    #3.4\n",
    "    #レンズ\n",
    "    result2 = lens.convex_lens(result1, wl=Lambda, p=pitch, f1=z2)\n",
    "    \n",
    "    #5\n",
    "    #回折計算\n",
    "    result3 = cl.angular_spectrum(result2, wl=Lambda, p=pitch, z=z3, out_type=\"numpy\", out_form=\"amp_float\")\n",
    "    \n",
    "\n",
    "\n",
    "elif mode==\"image\":\n",
    "    for h in range(count):\n",
    "        print(h)\n",
    "        for k in range(int(data_train/batch_size)):\n",
    "            \n",
    "            #画像データのロード\n",
    "            X_train1 = opt_util.input_img(folder_path=\"./1024\",batch_size=batch_size, num_per_file=data_train, counter1=h, counter2=k)\n",
    "\n",
    "            #2\n",
    "            #回折計算\n",
    "            result1 = cl.angular_spectrum(X_train1, wl=Lambda, p=pitch,z=z1)\n",
    "            \n",
    "            #3.4\n",
    "            #レンズ\n",
    "            result2 = lens.convex_lens(result1, wl=Lambda, p=pitch, f1=z2)\n",
    "\n",
    "            #5\n",
    "            #回折計算\n",
    "            result3 = cl.angular_spectrum(result1, wl=Lambda, p=pitch, z=-z1, out_type=\"numpy\", out_form=\"amp_float\")\n",
    "\n",
    "else :\n",
    "    pass"
   ]
  },
  {
   "cell_type": "code",
   "execution_count": 18,
   "id": "1d11633d-96a9-4fc7-bc30-036cd2c07e22",
   "metadata": {},
   "outputs": [],
   "source": [
    "opt_util.output_img(result3, preview=\"off\")"
   ]
  },
  {
   "cell_type": "code",
   "execution_count": null,
   "id": "6db9e638-5386-4da3-84aa-339db04b0320",
   "metadata": {},
   "outputs": [],
   "source": []
  }
 ],
 "metadata": {
  "accelerator": "GPU",
  "colab": {
   "provenance": [
    {
     "file_id": "1KTuwHebdFgAWRRCrow8bmngHrk-kR268",
     "timestamp": 1664966816522
    },
    {
     "file_id": "1Wz3-gCnl20-g-6og8A__Lk0nmSoG0aMZ",
     "timestamp": 1664889804385
    },
    {
     "file_id": "1O-ZNESXCxymgFpuJsUMggLQC5NN4qFQm",
     "timestamp": 1664874574513
    },
    {
     "file_id": "1UDn0ZndiphpXVGJLcE_eZSGLafGpM2xl",
     "timestamp": 1661424977544
    },
    {
     "file_id": "10GghPjMIQQ40SSF60wdlE_ri8G5VfgPn",
     "timestamp": 1661417282982
    },
    {
     "file_id": "1hsYj1x3EGZYS1Gz4UcdgTwfdlXfpIxc_",
     "timestamp": 1661338323393
    },
    {
     "file_id": "17XpZIZyvmgaj1Iqo5Gq4FBWmByp7MIbT",
     "timestamp": 1661337041260
    },
    {
     "file_id": "1UFcLPMECFIeFJ019ISrg4MJ88Aup6Ho-",
     "timestamp": 1661335561146
    },
    {
     "file_id": "1X7zPushrGJT1TxG1OXtBPNfnw5f5E-HS",
     "timestamp": 1661333639089
    },
    {
     "file_id": "1PptcI2i7fu6KrXYBZxKXxH9SdLPUeKJQ",
     "timestamp": 1661329132887
    },
    {
     "file_id": "1YmSl_UhAIA0NxJSgXV8FYbCRRrMfvq4g",
     "timestamp": 1661328359353
    },
    {
     "file_id": "12688ubL1UrMl_aFbnHT7pbnrAUYcs_Tg",
     "timestamp": 1661325546510
    }
   ]
  },
  "gpuClass": "standard",
  "kernelspec": {
   "display_name": "Python 3 (ipykernel)",
   "language": "python",
   "name": "python3"
  },
  "language_info": {
   "codemirror_mode": {
    "name": "ipython",
    "version": 3
   },
   "file_extension": ".py",
   "mimetype": "text/x-python",
   "name": "python",
   "nbconvert_exporter": "python",
   "pygments_lexer": "ipython3",
   "version": "3.7.13"
  }
 },
 "nbformat": 4,
 "nbformat_minor": 5
}
